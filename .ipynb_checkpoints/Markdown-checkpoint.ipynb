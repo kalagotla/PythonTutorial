{
 "cells": [
  {
   "cell_type": "markdown",
   "metadata": {},
   "source": [
    "# Markdown Tutorial"
   ]
  },
  {
   "cell_type": "markdown",
   "metadata": {},
   "source": [
    "<h1 style='color:red'>Jupyter Shortcuts</h1>"
   ]
  },
  {
   "cell_type": "markdown",
   "metadata": {},
   "source": [
    "## How to make headers?"
   ]
  },
  {
   "cell_type": "raw",
   "metadata": {},
   "source": [
    "# Heading 1\n",
    "## Heading 2\n",
    "### Heading 3\n",
    "#### Heading 4\n",
    "##### Heading 5\n",
    "###### Heading 6"
   ]
  },
  {
   "cell_type": "markdown",
   "metadata": {},
   "source": [
    "# Heading 1\n",
    "## Heading 2\n",
    "### Heading 3\n",
    "#### Heading 4\n",
    "##### Heading 5\n",
    "###### Heading 6"
   ]
  },
  {
   "cell_type": "markdown",
   "metadata": {},
   "source": [
    "## How to style fonts?"
   ]
  },
  {
   "cell_type": "raw",
   "metadata": {},
   "source": [
    "(<br> is used for line break)"
   ]
  },
  {
   "cell_type": "raw",
   "metadata": {},
   "source": [
    "*italics* or _italics_ <br>\n",
    "**bold** or __bold__ <br>\n",
    "~~strikethrough~~ <br>\n",
    "**Combine *styles* this way**"
   ]
  },
  {
   "cell_type": "markdown",
   "metadata": {},
   "source": [
    "*italics* or _italics_ <br>\n",
    "**bold** or __bold__ <br>\n",
    "~~strikethrough~~ <br>\n",
    "**Combine *styles* this way**"
   ]
  },
  {
   "cell_type": "markdown",
   "metadata": {},
   "source": [
    "## How to create Lists?"
   ]
  },
  {
   "cell_type": "raw",
   "metadata": {},
   "source": [
    "- bullet 1\n",
    "- bullet 2"
   ]
  },
  {
   "cell_type": "markdown",
   "metadata": {},
   "source": [
    "- bullet 1\n",
    "- bullet 2"
   ]
  },
  {
   "cell_type": "raw",
   "metadata": {},
   "source": [
    "1. bullet 1\n",
    "2. bullet 2"
   ]
  },
  {
   "cell_type": "markdown",
   "metadata": {},
   "source": [
    "1. bullet 1\n",
    "2. bullet 2"
   ]
  },
  {
   "cell_type": "raw",
   "metadata": {},
   "source": [
    "1. bullet 1\n",
    "    1. bullet A\n",
    "        1. bullet a\n",
    "            1. bullet i"
   ]
  },
  {
   "cell_type": "markdown",
   "metadata": {},
   "source": [
    "1. bullet 1\n",
    "    1. bullet A\n",
    "        1. bullet a\n",
    "            1. bullet i"
   ]
  },
  {
   "cell_type": "markdown",
   "metadata": {},
   "source": [
    "## How to create links?"
   ]
  },
  {
   "cell_type": "raw",
   "metadata": {},
   "source": [
    "https://github.com/kalagotla"
   ]
  },
  {
   "cell_type": "markdown",
   "metadata": {},
   "source": [
    "https://github.com/kalagotla"
   ]
  },
  {
   "cell_type": "raw",
   "metadata": {},
   "source": [
    "[Embedded Links](https://github.com/kalagotla)"
   ]
  },
  {
   "cell_type": "markdown",
   "metadata": {},
   "source": [
    "[Embedded Links](https://github.com/kalagotla)"
   ]
  },
  {
   "cell_type": "raw",
   "metadata": {},
   "source": [
    "[Reference Style. Can be used to create a long document][1]\n",
    "\n",
    "[1]: https://github.com/kalagotla\n",
    "[2]: https://github.com"
   ]
  },
  {
   "cell_type": "markdown",
   "metadata": {},
   "source": [
    "[Reference Style. Can be used to create a long document][1]\n",
    "\n",
    "[1]: https://github.com/kalagotla\n",
    "[2]: https://github.com"
   ]
  },
  {
   "cell_type": "markdown",
   "metadata": {},
   "source": [
    "## How to do code highlighting?"
   ]
  },
  {
   "cell_type": "markdown",
   "metadata": {},
   "source": [
    "### To do code highlight use back-tick. This is usually below esc key on your keyboard"
   ]
  },
  {
   "cell_type": "raw",
   "metadata": {},
   "source": [
    "```python\n",
    "a = 'This is a string element'\n",
    "print(a)\n",
    "```"
   ]
  },
  {
   "cell_type": "markdown",
   "metadata": {},
   "source": [
    "```python\n",
    "a = 'This is a string element'\n",
    "print(a)\n",
    "```"
   ]
  },
  {
   "cell_type": "markdown",
   "metadata": {},
   "source": [
    "## How to create blocks?"
   ]
  },
  {
   "cell_type": "raw",
   "metadata": {},
   "source": [
    "> This emulates a text reply\n",
    ">> Hi there, how are you?\n",
    ">>> I'm good, how are you?"
   ]
  },
  {
   "cell_type": "markdown",
   "metadata": {},
   "source": [
    "> This emulates a text reply\n",
    ">> Hi there, how are you?\n",
    ">>> I'm good, how are you?"
   ]
  },
  {
   "cell_type": "markdown",
   "metadata": {},
   "source": [
    "<h1 style='color:red'>HTML Style: More Variations are possible</h1>"
   ]
  },
  {
   "cell_type": "markdown",
   "metadata": {},
   "source": [
    "## How to make headers?"
   ]
  },
  {
   "cell_type": "raw",
   "metadata": {},
   "source": [
    "<h1 style='color:red'>Heading 1</h1>\n",
    "<h2 style='color:blue'>Heading 2</h2>\n",
    "<h3 style='color:green'>Heading 3</h3>\n",
    "<h4 style='color:purple'>Heading 4</h4>\n",
    "<h5 style='color:yellow'>Heading 5</h5>\n",
    "<h6 style='color:pink'>Heading 6</h6>"
   ]
  },
  {
   "cell_type": "markdown",
   "metadata": {},
   "source": [
    "<h1 style='color:red'>Heading 1</h1>\n",
    "<h2 style='color:blue'>Heading 2</h2>\n",
    "<h3 style='color:green'>Heading 3</h3>\n",
    "<h4 style='color:purple'>Heading 4</h4>\n",
    "<h5 style='color:yellow'>Heading 5</h5>\n",
    "<h6 style='color:pink'>Heading 6</h6>"
   ]
  },
  {
   "cell_type": "raw",
   "metadata": {},
   "source": [
    "<i style='color:red'>italics</i> <br>\n",
    "<b style='color:blue'>bold</b> <br>\n",
    "<strike style='color:green'>strikethrough</strike>"
   ]
  },
  {
   "cell_type": "markdown",
   "metadata": {},
   "source": [
    "<i style='color:red'>italics</i> <br>\n",
    "<b style='color:blue'>bold</b> <br>\n",
    "<strike style='color:green'>strikethrough</strike>"
   ]
  },
  {
   "cell_type": "raw",
   "metadata": {},
   "source": [
    "<p style='font-size:200%'>This is to adjust font size.</p>"
   ]
  },
  {
   "cell_type": "markdown",
   "metadata": {},
   "source": [
    "<p style='font-size:200%'>This is to adjust font size.</p>"
   ]
  },
  {
   "cell_type": "raw",
   "metadata": {},
   "source": [
    "<p style='font-size:200%; color:red; text-align:center'>\n",
    "    This is how you combine multiple styles\n",
    "</p>"
   ]
  },
  {
   "cell_type": "markdown",
   "metadata": {},
   "source": [
    "<p style='font-size:200%; color:red; text-align:center'>\n",
    "    This is how you combine multiple styles\n",
    "</p>"
   ]
  }
 ],
 "metadata": {
  "kernelspec": {
   "display_name": "Python 3",
   "language": "python",
   "name": "python3"
  },
  "language_info": {
   "codemirror_mode": {
    "name": "ipython",
    "version": 3
   },
   "file_extension": ".py",
   "mimetype": "text/x-python",
   "name": "python",
   "nbconvert_exporter": "python",
   "pygments_lexer": "ipython3",
   "version": "3.8.5"
  }
 },
 "nbformat": 4,
 "nbformat_minor": 4
}
